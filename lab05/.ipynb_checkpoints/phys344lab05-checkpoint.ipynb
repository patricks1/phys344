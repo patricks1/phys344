{
 "cells": [
  {
   "cell_type": "code",
   "execution_count": 129,
   "metadata": {},
   "outputs": [],
   "source": [
    "import numpy as np\n",
    "import scipy\n",
    "\n",
    "import matplotlib.pyplot as plt\n",
    "from matplotlib import rcParams\n",
    "rcParams['font.family']='serif'\n",
    "rcParams['mathtext.fontset'] = 'dejavuserif'"
   ]
  },
  {
   "cell_type": "code",
   "execution_count": null,
   "metadata": {},
   "outputs": [],
   "source": [
    "def pull(file):\n",
    "    x,y,m,dm=np.loadtxt(file,usecols=[3,4,9,10],unpack=True,skiprows=3)\n",
    "    t=np.loadtxt(file,usecols=1,unpack=True,skiprows=3)\n",
    "    return t,x,y,m,dm\n",
    "\n",
    "tt,xt,yt,mt,dmt=pull('lab05phot_target.txt')\n",
    "tc1,xc1,yc1,mc1,dmc1=pull('lab05phot_comp1.txt')\n",
    "tc2,xc2,yc2,mc2,dmc2=pull('lab05phot_comp2.txt')\n",
    "\n",
    "\n",
    "mt_cal=mt-(mc1+mc2)/2.\n",
    "mt_cal=mt-mc2\n",
    "mt_cal=mt-mc1\n",
    "\n",
    "def run(mc,rolnum,compname):\n",
    "    if mc not None:  \n",
    "        mt_cal=mt-mc\n",
    "        if rolnum not None:  \n",
    "            '''\n",
    "            mt_cal_movavg=np.append(mt_cal[0],\n",
    "                                    [np.average(mt_cal[1:i]) for i in np.arange(1,rolnum-1,1)])\n",
    "            mt_cal_movavg=np.append(mt_cal_movavg,\n",
    "                                    [np.average(mt_cal[i-(rolnum-1):i]) for i in np.arange(rolnum,len(mt_cal)+1,1)])\n",
    "            '''\n",
    "\n",
    "            a=mt_cal[0]\n",
    "            b=[np.average(mt_cal[1:i]) for i in np.arange(1,rolnum-1,1)]\n",
    "            c=[np.average(mt_cal[i-(rolnum-1):i]) for i in np.arange(rolnum-1,len(mt_cal),1)]\n",
    "            mt_cal_movavg=np.concatenate(([a],b,c))\n",
    "\n",
    "            d=dmt[0]\n",
    "            e=[np.sqrt(np.sum(dmt[1:i]**2.)/float(i+1)) for i in np.arange(1,rolnum-1,1)]\n",
    "            f=[np.sqrt(np.sum(dmt[i-(rolnum-1):i]**2.)/float(rolnum)) \n",
    "               for i in np.arange(rolnum-1,len(mt_cal),1)]\n",
    "            dmt_cal_movavg=np.concatenate(([d],e,f))\n",
    "\n",
    "            '''\n",
    "            print np.arange(1,rolnum-1,1)\n",
    "            print np.arange(rolnum-1,len(mt_cal)+1,1)\n",
    "            print len(mt_cal)\n",
    "\n",
    "            print dmt_cal_movavg\n",
    "            print dmt\n",
    "            print mt\n",
    "            '''\n",
    "\n",
    "            fig=plt.figure(figsize=(10,8))\n",
    "            ax=fig.add_subplot(111)\n",
    "            #ax.plot(tt,mt_cal)\n",
    "            ax.errorbafr(tt,mt_cal_movavg,dmt_cal_movavg,capsize=6,ecolor='k',fmt='ro')\n",
    "            ax.axes.invert_yaxis()\n",
    "            title='HD 189733 $-$ '+compname+' magnitude'\n",
    "            ax.set_title(title)\n",
    "            plt.show()\n",
    "        else:\n",
    "            fig=plt.figure(figsize=(10,8))\n",
    "            ax=fig.add_subplot(111)\n",
    "            #ax.plot(tt,mt_cal)\n",
    "            ax.errorbar(tt,mt_cal,dmt,capsize=6,ecolor='k',fmt='ro')\n",
    "            ax.axes.invert_yaxis()\n",
    "            ax.set_title('')\n",
    "            plt.show()\n",
    "    else:\n",
    "        fig=plt.figure(figsize=(10,8))\n",
    "        ax=fig.add_subplot(111)\n",
    "        #ax.plot(tt,mt_cal)\n",
    "        ax.errorbar(tt,mt_cal,dmt,capsize=6,ecolor='k',fmt='ro')\n",
    "        ax.axes.invert_yaxis()\n",
    "        ax.set_title('')\n",
    "        plt.show()\n",
    "        \n",
    "    \n",
    "\n",
    "rolnum=7\n",
    "\n",
    "run(mc2,7,'')\n",
    "\n",
    "fig=plt.figure(figsize=(10,8))\n",
    "ax=fig.add_subplot(111)\n",
    "#ax.plot(tt,mt_cal_movavg)\n",
    "ax.errorbar(tt,mt_cal_movavg,dmt,capsize=6,ecolor='k',fmt='ro')\n",
    "ax.axes.invert_yaxis()\n",
    "plt.show()"
   ]
  },
  {
   "cell_type": "code",
   "execution_count": 133,
   "metadata": {},
   "outputs": [
    {
     "name": "stdout",
     "output_type": "stream",
     "text": [
      "title1\n"
     ]
    }
   ],
   "source": [
    "a='title'\n",
    "b=a+'1'\n",
    "print b"
   ]
  }
 ],
 "metadata": {
  "kernelspec": {
   "display_name": "Python 2",
   "language": "python",
   "name": "python2"
  },
  "language_info": {
   "codemirror_mode": {
    "name": "ipython",
    "version": 2
   },
   "file_extension": ".py",
   "mimetype": "text/x-python",
   "name": "python",
   "nbconvert_exporter": "python",
   "pygments_lexer": "ipython2",
   "version": "2.7.12"
  }
 },
 "nbformat": 4,
 "nbformat_minor": 2
}
