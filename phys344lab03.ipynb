{
 "cells": [
  {
   "cell_type": "code",
   "execution_count": 31,
   "metadata": {},
   "outputs": [],
   "source": [
    "import numpy as np"
   ]
  },
  {
   "cell_type": "markdown",
   "metadata": {},
   "source": [
    "# Angular Separations"
   ]
  },
  {
   "cell_type": "code",
   "execution_count": 32,
   "metadata": {},
   "outputs": [],
   "source": [
    "a=[21.,32.,11.836]\n",
    "d=[48.,30.,38.28]\n",
    "star384=[a,d]\n",
    "\n",
    "a=[21.,32.,32.170]\n",
    "d=[48.,32.,7.04]\n",
    "star2331=[a,d]\n",
    "\n",
    "a=[21.,32.,43.794]\n",
    "d=[48.,29.,21.3]\n",
    "starc=[a,d]\n",
    "\n",
    "a=[21.,31.,27.692]\n",
    "d=[48.,31.,36.03]\n",
    "star86=[a,d]\n",
    "\n",
    "a=[21.,32.,4.432]\n",
    "d=[48.,27.,17.96]\n",
    "star2539=[a,d]\n",
    "\n",
    "a=[21.,32.,43.974]\n",
    "d=[48.,29.,21.3]\n",
    "starc=[a,d]"
   ]
  },
  {
   "cell_type": "code",
   "execution_count": 33,
   "metadata": {},
   "outputs": [],
   "source": [
    "def converta(a):\n",
    "    f=a[0]/24.\n",
    "    f+=a[1]/60./24.\n",
    "    f+=a[2]/60./60./24.\n",
    "    s=f*60.*60.*360.\n",
    "    return s\n",
    "\n",
    "def convertd(d):\n",
    "    f=d[0]/360.\n",
    "    f+=d[1]/60./360.\n",
    "    f+=d[2]/60./60./360.\n",
    "    s=f*60.*60.*360.\n",
    "    #print s\n",
    "    return s\n",
    "\n",
    "def convert(coords):\n",
    "    s1=converta(coords[0])\n",
    "    s2=convertd(coords[1])\n",
    "    #print s1\n",
    "    #print s2\n",
    "    return np.array([s1,s2])    \n",
    "\n",
    "def dists(star1,star2):\n",
    "    star1s=convert(star1)\n",
    "    star2s=convert(star2)\n",
    "    dec1=convertd(star1[1])\n",
    "    dec2=convertd(star2[1])\n",
    "    avgdec=np.average([dec1,dec2])/60./60.\n",
    "    deltara=(star1s[0]-star2s[0])*np.cos(np.deg2rad(avgdec))\n",
    "    deltadec=star1s[1]-star2s[1]\n",
    "    return np.sqrt(deltara**2.+deltadec**2.)"
   ]
  },
  {
   "cell_type": "code",
   "execution_count": 34,
   "metadata": {},
   "outputs": [
    {
     "name": "stdout",
     "output_type": "stream",
     "text": [
      "442.3846175104423\n",
      "447.2107147655158\n",
      "213.41824927730488\n",
      "412.1253036572998\n",
      "213.41824927730488\n",
      "\n",
      "220.65372394929906\n",
      "203.0465202961479\n",
      "328.5744951261799\n"
     ]
    }
   ],
   "source": [
    "print dists(star86,star384)\n",
    "print dists(star86,star2539)\n",
    "print dists(star2539,star384)\n",
    "print dists(starc,star2539)\n",
    "print dists(star384,star2539)\n",
    "\n",
    "dists1=dists(star384,star2331)\n",
    "dists2=dists(star2331,starc)\n",
    "dists3= dists(star384,starc)\n",
    "\n",
    "print''\n",
    "print dists1\n",
    "print dists2\n",
    "print dists3"
   ]
  },
  {
   "cell_type": "code",
   "execution_count": 35,
   "metadata": {},
   "outputs": [
    {
     "name": "stdout",
     "output_type": "stream",
     "text": [
      "[0.88937414 0.89487228 0.8945671 ]\n",
      "0.8929378390604436\n",
      "0.0025229944115400843\n"
     ]
    }
   ],
   "source": [
    "distp1=248.1\n",
    "distp2=226.9\n",
    "distp3=367.3\n",
    "\n",
    "scales=np.array([dists1/distp1,dists2/distp2,dists3/distp3])\n",
    "print scales\n",
    "\n",
    "scale=np.average(scales)\n",
    "dscale=np.std(scales)\n",
    "fdscale=dscale/scale\n",
    "print scale\n",
    "print dscale"
   ]
  },
  {
   "cell_type": "markdown",
   "metadata": {},
   "source": [
    "# Gain and Read Noise"
   ]
  },
  {
   "cell_type": "code",
   "execution_count": 36,
   "metadata": {},
   "outputs": [
    {
     "name": "stdout",
     "output_type": "stream",
     "text": [
      "1.7610558781\n",
      "22.834357272066622\n"
     ]
    }
   ],
   "source": [
    "def gain(mf1,mf2,mb1,mb2,stddf,stddb):\n",
    "    numer=mf1+mf2-mb1-mb2\n",
    "    denom=stddf**2.-stddb**2.\n",
    "    return numer/denom\n",
    "\n",
    "def rn(gainval,stddb):\n",
    "    return gainval*stddb/np.sqrt(2.)\n",
    "    \n",
    "\n",
    "mb1=305.246\n",
    "mb2=306.496\n",
    "mf1=32720.\n",
    "mf2=32686.6\n",
    "stddf=192.69\n",
    "stddb=18.3371\n",
    "\n",
    "gainval=gain(mf1,mf2,mb1,mb2,stddf,stddb)\n",
    "rnval=rn(gainval,stddb)\n",
    "\n",
    "print gainval\n",
    "print rnval"
   ]
  },
  {
   "cell_type": "markdown",
   "metadata": {},
   "source": [
    "# Athamantis"
   ]
  },
  {
   "cell_type": "code",
   "execution_count": 38,
   "metadata": {},
   "outputs": [
    {
     "name": "stdout",
     "output_type": "stream",
     "text": [
      "0.31622776601681996\n",
      "0.5656854249492863\n",
      "0.22360679774997896\n",
      "0.6403124237432707\n",
      "\n",
      "0.43645810311483896\n",
      "5.381617180000756\n",
      "\n",
      "18.803933277497343\n",
      "0.053130482883352224\n"
     ]
    }
   ],
   "source": [
    "def dpx(p1,p2):\n",
    "    return np.sqrt(np.sum((p2-p1)**2.))\n",
    "\n",
    "star1p1=np.array([1135.8,450.8])\n",
    "star1p2=np.array([1135.7,450.5])\n",
    "\n",
    "star2p1=np.array([1386.4,705.3])\n",
    "star2p2=np.array([1386.0,704.9])\n",
    "\n",
    "star3p2=np.array([730.9,254.5])\n",
    "star3p1=np.array([730.8,254.7])\n",
    "\n",
    "star4p1=np.array([620.3,1169.5])\n",
    "star4p2=np.array([619.9,1169.])\n",
    "\n",
    "astp1=np.array([674.8,724.1])\n",
    "astp2=np.array([680.1,726.5])\n",
    "\n",
    "dstar1=dpx(star1p1,star1p2)\n",
    "dstar2=dpx(star2p1,star2p2)\n",
    "dstar3=dpx(star3p1,star3p2)\n",
    "dstar4=dpx(star4p1,star4p2)\n",
    "\n",
    "print dstar1\n",
    "print dstar2\n",
    "print dstar3\n",
    "print dstar4\n",
    "print''\n",
    "\n",
    "dstar=np.average([dstar1,dstar2,dstar3,dstar4])\n",
    "\n",
    "print dstar\n",
    "\n",
    "dast=dpx(astp2,astp1)-dstar\n",
    "\n",
    "print dast\n",
    "\n",
    "t2=57.+28./60.\n",
    "t1=42.+8/60.\n",
    "v=dast*scale/(t2-t1)*60.\n",
    "dv=v*fdscale\n",
    "\n",
    "print''\n",
    "print v\n",
    "print dv"
   ]
  }
 ],
 "metadata": {
  "kernelspec": {
   "display_name": "Python 2",
   "language": "python",
   "name": "python2"
  },
  "language_info": {
   "codemirror_mode": {
    "name": "ipython",
    "version": 2
   },
   "file_extension": ".py",
   "mimetype": "text/x-python",
   "name": "python",
   "nbconvert_exporter": "python",
   "pygments_lexer": "ipython2",
   "version": "2.7.12"
  }
 },
 "nbformat": 4,
 "nbformat_minor": 2
}
