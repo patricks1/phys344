{
 "cells": [
  {
   "cell_type": "code",
   "execution_count": 2,
   "metadata": {},
   "outputs": [],
   "source": [
    "import numpy as np"
   ]
  },
  {
   "cell_type": "code",
   "execution_count": 3,
   "metadata": {},
   "outputs": [],
   "source": [
    "a=[21.,32.,11.836]\n",
    "d=[48.,30.,38.28]\n",
    "star384=[a,d]\n",
    "\n",
    "a=[21.,32.,32.170]\n",
    "d=[48.,32.,7.04]\n",
    "star2331=[a,d]\n",
    "\n",
    "a=[21.,32.,43.794]\n",
    "d=[48.,29.,21.3]\n",
    "starc=[a,d]\n",
    "\n",
    "a=[21.,31.,27.692]\n",
    "d=[48.,31.,36.03]\n",
    "star86=[a,d]\n",
    "\n",
    "a=[21.,32.,4.432]\n",
    "d=[48.,27.,17.96]\n",
    "star2539=[a,d]\n",
    "\n",
    "a=[21.,32.,43.974]\n",
    "d=[48.,29.,21.3]\n",
    "starc=[a,d]"
   ]
  },
  {
   "cell_type": "code",
   "execution_count": 4,
   "metadata": {},
   "outputs": [],
   "source": [
    "def converta(a):\n",
    "    f=a[0]/24.\n",
    "    f+=a[1]/60./24.\n",
    "    f+=a[2]/60./60./24.\n",
    "    s=f*60.*60.*360.\n",
    "    return s\n",
    "\n",
    "def convertd(d):\n",
    "    f=d[0]/360.\n",
    "    f+=d[1]/60./360.\n",
    "    f+=d[2]/60./60./360.\n",
    "    s=f*60.*60.*360.\n",
    "    #print s\n",
    "    return s\n",
    "\n",
    "def convert(coords):\n",
    "    s1=converta(coords[0])\n",
    "    s2=convertd(coords[1])\n",
    "    #print s1\n",
    "    #print s2\n",
    "    return np.array([s1,s2])    \n",
    "\n",
    "'''\n",
    "def scoord(a,d):\n",
    "    s1=converta[a]\n",
    "    s2=convertd[d]\n",
    "    #print s1\n",
    "    #print s2\n",
    "    return np.array(s1,s2)\n",
    "'''\n",
    "\n",
    "def dists(star1,star2):\n",
    "    star1s=convert(star1)\n",
    "    star2s=convert(star2)\n",
    "    deltara=(star1s[0]-star2s[0])*np.cos(15.4715)\n",
    "    deltadec=star1s[1]-star2s[1]\n",
    "    return np.sqrt(deltara**2.+deltadec**2.)"
   ]
  },
  {
   "cell_type": "code",
   "execution_count": 12,
   "metadata": {},
   "outputs": [
    {
     "name": "stdout",
     "output_type": "stream",
     "text": [
      "646.3190152054112\n",
      "594.6793460498591\n",
      "227.5643044782061\n",
      "589.6684084760991\n",
      "227.5643044782061\n",
      "\n",
      "309.5219674356567\n",
      "238.95496537044937\n",
      "474.93542107411434\n"
     ]
    }
   ],
   "source": [
    "print dists(star86,star384)\n",
    "print dists(star86,star2539)\n",
    "print dists(star2539,star384)\n",
    "print dists(starc,star2539)\n",
    "print dists(star384,star2539)\n",
    "\n",
    "dists1=dists(star384,star2331)\n",
    "dists2=dists(star2331,starc)\n",
    "dists3= dists(star384,starc)\n",
    "\n",
    "print''\n",
    "print dists1\n",
    "print dists2\n",
    "print dists3"
   ]
  },
  {
   "cell_type": "code",
   "execution_count": 17,
   "metadata": {},
   "outputs": [
    {
     "name": "stdout",
     "output_type": "stream",
     "text": [
      "[1.2475694  1.05312898 1.29304498]\n",
      "1.1979144520331164\n",
      "0.10404848876340574\n"
     ]
    }
   ],
   "source": [
    "distp1=248.1\n",
    "distp2=226.9\n",
    "distp3=367.3\n",
    "\n",
    "scales=np.array([dists1/distp1,dists2/distp2,dists3/distp3])\n",
    "print scales\n",
    "print np.average(scales)\n",
    "print np.std(scales)"
   ]
  }
 ],
 "metadata": {
  "kernelspec": {
   "display_name": "Python 2",
   "language": "python",
   "name": "python2"
  },
  "language_info": {
   "codemirror_mode": {
    "name": "ipython",
    "version": 2
   },
   "file_extension": ".py",
   "mimetype": "text/x-python",
   "name": "python",
   "nbconvert_exporter": "python",
   "pygments_lexer": "ipython2",
   "version": "2.7.12"
  }
 },
 "nbformat": 4,
 "nbformat_minor": 2
}
